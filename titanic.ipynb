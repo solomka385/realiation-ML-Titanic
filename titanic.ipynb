{
 "cells": [
  {
   "cell_type": "code",
   "execution_count": 23,
   "id": "a60c1365-279d-4c9c-bf53-d9d78b87459a",
   "metadata": {},
   "outputs": [],
   "source": [
    "import pandas as pd\n",
    "import numpy as np\n",
    "import math\n",
    "from sklearn.model_selection import train_test_split\n",
    "from sklearn.preprocessing import StandardScaler\n",
    "from sklearn.linear_model import LogisticRegression\n",
    "from sklearn.metrics import mean_squared_error, r2_score\n",
    "from sklearn.metrics import classification_report"
   ]
  },
  {
   "cell_type": "code",
   "execution_count": 24,
   "id": "70032a33-e7f7-4f00-810a-d4d669d330a0",
   "metadata": {},
   "outputs": [],
   "source": [
    "data = pd.read_csv('C://Users/alex1/Downloads/titanic/gender_submission.csv')\n",
    "\n",
    "train = pd.read_csv('C://Users/alex1/Downloads/titanic/test.csv')\n",
    "data_copy = data.copy()\n",
    "train_copy = train.copy()"
   ]
  },
  {
   "cell_type": "code",
   "execution_count": 25,
   "id": "9c3aa6c5-1091-41df-943d-96786bdee617",
   "metadata": {},
   "outputs": [
    {
     "name": "stdout",
     "output_type": "stream",
     "text": [
      "0      34.5\n",
      "1      47.0\n",
      "2      62.0\n",
      "3      27.0\n",
      "4      22.0\n",
      "       ... \n",
      "413     NaN\n",
      "414    39.0\n",
      "415    38.5\n",
      "416     NaN\n",
      "417     NaN\n",
      "Name: Age, Length: 418, dtype: float64\n"
     ]
    },
    {
     "data": {
      "text/plain": [
       "0      34.00000\n",
       "1      47.00000\n",
       "2      62.00000\n",
       "3      27.00000\n",
       "4      22.00000\n",
       "         ...   \n",
       "413    30.27259\n",
       "414    39.00000\n",
       "415    38.00000\n",
       "416    30.27259\n",
       "417    30.27259\n",
       "Name: Age, Length: 418, dtype: float64"
      ]
     },
     "execution_count": 25,
     "metadata": {},
     "output_type": "execute_result"
    }
   ],
   "source": [
    "print(train_copy['Age'])\n",
    "medium_age = train_copy['Age'].mean()\n",
    "def age(example):\n",
    "    if math.isnan(example):\n",
    "        return medium_age\n",
    "    else:\n",
    "        return int(round(example))\n",
    "train_copy['Age'] = train_copy['Age'].apply(age)\n",
    "train_copy['Age']"
   ]
  },
  {
   "cell_type": "code",
   "execution_count": 26,
   "id": "a7e2a216-7b6b-4bb7-a519-0618c2eec445",
   "metadata": {},
   "outputs": [
    {
     "name": "stdout",
     "output_type": "stream",
     "text": [
      "0        male\n",
      "1      female\n",
      "2        male\n",
      "3        male\n",
      "4      female\n",
      "        ...  \n",
      "413      male\n",
      "414    female\n",
      "415      male\n",
      "416      male\n",
      "417      male\n",
      "Name: Sex, Length: 418, dtype: object\n",
      "<class 'pandas.core.frame.DataFrame'>\n",
      "RangeIndex: 418 entries, 0 to 417\n",
      "Data columns (total 11 columns):\n",
      " #   Column       Non-Null Count  Dtype  \n",
      "---  ------       --------------  -----  \n",
      " 0   PassengerId  418 non-null    int64  \n",
      " 1   Pclass       418 non-null    int64  \n",
      " 2   Name         418 non-null    object \n",
      " 3   Sex          418 non-null    int64  \n",
      " 4   Age          418 non-null    float64\n",
      " 5   SibSp        418 non-null    int64  \n",
      " 6   Parch        418 non-null    int64  \n",
      " 7   Ticket       418 non-null    object \n",
      " 8   Fare         417 non-null    float64\n",
      " 9   Cabin        91 non-null     object \n",
      " 10  Embarked     418 non-null    object \n",
      "dtypes: float64(2), int64(5), object(4)\n",
      "memory usage: 36.0+ KB\n"
     ]
    }
   ],
   "source": [
    "print(train_copy['Sex'])\n",
    "def sex(example):\n",
    "    if example == 'male':\n",
    "        return 1\n",
    "    elif example == 'female':\n",
    "        return 0\n",
    "    else:\n",
    "        return example\n",
    "train_copy['Sex'] = train_copy['Sex'].apply(sex)\n",
    "train_copy.info()"
   ]
  },
  {
   "cell_type": "code",
   "execution_count": 27,
   "id": "4f374abe-db73-410c-a428-a928127b11ef",
   "metadata": {},
   "outputs": [
    {
     "name": "stdout",
     "output_type": "stream",
     "text": [
      "<class 'pandas.core.frame.DataFrame'>\n",
      "RangeIndex: 418 entries, 0 to 417\n",
      "Data columns (total 5 columns):\n",
      " #   Column    Non-Null Count  Dtype  \n",
      "---  ------    --------------  -----  \n",
      " 0   Pclass    418 non-null    int64  \n",
      " 1   Sex       418 non-null    int64  \n",
      " 2   Age       418 non-null    float64\n",
      " 3   Fare      417 non-null    float64\n",
      " 4   Embarked  418 non-null    object \n",
      "dtypes: float64(2), int64(2), object(1)\n",
      "memory usage: 16.5+ KB\n"
     ]
    }
   ],
   "source": [
    "train_copy = train_copy.drop(columns = ['Name','PassengerId','Cabin','SibSp','Parch','Ticket'],axis = 0)\n",
    "train_copy.info()\n"
   ]
  },
  {
   "cell_type": "code",
   "execution_count": 28,
   "id": "4fdd5a02-62f8-4549-87be-af0d315141f9",
   "metadata": {},
   "outputs": [
    {
     "name": "stdout",
     "output_type": "stream",
     "text": [
      "<class 'pandas.core.frame.DataFrame'>\n",
      "RangeIndex: 418 entries, 0 to 417\n",
      "Data columns (total 6 columns):\n",
      " #   Column  Non-Null Count  Dtype  \n",
      "---  ------  --------------  -----  \n",
      " 0   Pclass  418 non-null    int64  \n",
      " 1   Sex     418 non-null    int64  \n",
      " 2   Age     418 non-null    float64\n",
      " 3   S       418 non-null    int64  \n",
      " 4   C       418 non-null    int64  \n",
      " 5   Q       418 non-null    int64  \n",
      "dtypes: float64(1), int64(5)\n",
      "memory usage: 19.7 KB\n"
     ]
    }
   ],
   "source": [
    "train_copy['Embarked']\n",
    "#fare_median = int(train_copy['Fare'].mean())\n",
    "def Fare(example):\n",
    "    if math.isnan(example):\n",
    "        return int(example)\n",
    "    else:\n",
    "        return int(fare_median)\n",
    "median_embr = 'C'\n",
    "S_spisok = []\n",
    "C_spisok = []\n",
    "Q_spisok = []\n",
    "def Embarked(example):\n",
    "    if example in ['S','C','Q']:\n",
    "        if example == 'S':\n",
    "            S_spisok.append(1)\n",
    "            C_spisok.append(0)\n",
    "            Q_spisok.append(0)\n",
    "        if example == 'C':\n",
    "            S_spisok.append(0)\n",
    "            C_spisok.append(1)\n",
    "            Q_spisok.append(0)\n",
    "        if example == 'Q':\n",
    "            S_spisok.append(0)\n",
    "            C_spisok.append(0)\n",
    "            Q_spisok.append(1)\n",
    "        return example\n",
    "    else:\n",
    "        S_spisok.append(0)\n",
    "        C_spisok.append(1)\n",
    "        Q_spisok.append(0)\n",
    "        return median_embr\n",
    "\n",
    "#train_copy['Fare'] = pd.to_numeric(train_copy['Fare'], errors=fare_median)\n",
    "train_copy['Embarked'] = train_copy['Embarked'].apply(Embarked)\n",
    "\n",
    "train_copy['S'] =  S_spisok\n",
    "train_copy['C'] = C_spisok\n",
    "train_copy['Q'] = Q_spisok\n",
    "train_copy = train_copy.drop(columns = ['Embarked','Fare'],axis = 0)\n",
    "train_copy.info()"
   ]
  },
  {
   "cell_type": "code",
   "execution_count": 30,
   "id": "db87c2da-89e4-490d-80fe-7fe59188e834",
   "metadata": {},
   "outputs": [
    {
     "data": {
      "text/plain": [
       "'              precision    recall  f1-score   support\\n\\n           0       1.00      1.00      1.00        85\\n           1       1.00      1.00      1.00        41\\n\\n    accuracy                           1.00       126\\n   macro avg       1.00      1.00      1.00       126\\nweighted avg       1.00      1.00      1.00       126\\n'"
      ]
     },
     "execution_count": 30,
     "metadata": {},
     "output_type": "execute_result"
    }
   ],
   "source": [
    "X = train_copy\n",
    "\n",
    "y = data_copy['Survived']\n",
    "X_train, X_test, y_train, y_test = train_test_split(X, y, test_size=0.3, random_state=42)\n",
    "\n",
    "model = LogisticRegression()\n",
    "model.fit(X_train, y_train)\n",
    "y_pred = model.predict(X_test)\n",
    "\n",
    "\n",
    "classification_report_output = classification_report(y_test, y_pred)\n",
    "classification_report_output"
   ]
  },
  {
   "cell_type": "code",
   "execution_count": 289,
   "id": "5a1282ce-54a5-4b53-83d8-4cc9cb82308a",
   "metadata": {},
   "outputs": [
    {
     "data": {
      "text/html": [
       "<div>\n",
       "<style scoped>\n",
       "    .dataframe tbody tr th:only-of-type {\n",
       "        vertical-align: middle;\n",
       "    }\n",
       "\n",
       "    .dataframe tbody tr th {\n",
       "        vertical-align: top;\n",
       "    }\n",
       "\n",
       "    .dataframe thead th {\n",
       "        text-align: right;\n",
       "    }\n",
       "</style>\n",
       "<table border=\"1\" class=\"dataframe\">\n",
       "  <thead>\n",
       "    <tr style=\"text-align: right;\">\n",
       "      <th></th>\n",
       "      <th>Pclass</th>\n",
       "      <th>Sex</th>\n",
       "      <th>Age</th>\n",
       "      <th>S</th>\n",
       "      <th>C</th>\n",
       "      <th>Q</th>\n",
       "    </tr>\n",
       "  </thead>\n",
       "  <tbody>\n",
       "    <tr>\n",
       "      <th>0</th>\n",
       "      <td>3</td>\n",
       "      <td>1</td>\n",
       "      <td>34.00000</td>\n",
       "      <td>0</td>\n",
       "      <td>0</td>\n",
       "      <td>1</td>\n",
       "    </tr>\n",
       "    <tr>\n",
       "      <th>1</th>\n",
       "      <td>3</td>\n",
       "      <td>0</td>\n",
       "      <td>47.00000</td>\n",
       "      <td>1</td>\n",
       "      <td>0</td>\n",
       "      <td>0</td>\n",
       "    </tr>\n",
       "    <tr>\n",
       "      <th>2</th>\n",
       "      <td>2</td>\n",
       "      <td>1</td>\n",
       "      <td>62.00000</td>\n",
       "      <td>0</td>\n",
       "      <td>0</td>\n",
       "      <td>1</td>\n",
       "    </tr>\n",
       "    <tr>\n",
       "      <th>3</th>\n",
       "      <td>3</td>\n",
       "      <td>1</td>\n",
       "      <td>27.00000</td>\n",
       "      <td>1</td>\n",
       "      <td>0</td>\n",
       "      <td>0</td>\n",
       "    </tr>\n",
       "    <tr>\n",
       "      <th>4</th>\n",
       "      <td>3</td>\n",
       "      <td>0</td>\n",
       "      <td>22.00000</td>\n",
       "      <td>1</td>\n",
       "      <td>0</td>\n",
       "      <td>0</td>\n",
       "    </tr>\n",
       "    <tr>\n",
       "      <th>...</th>\n",
       "      <td>...</td>\n",
       "      <td>...</td>\n",
       "      <td>...</td>\n",
       "      <td>...</td>\n",
       "      <td>...</td>\n",
       "      <td>...</td>\n",
       "    </tr>\n",
       "    <tr>\n",
       "      <th>413</th>\n",
       "      <td>3</td>\n",
       "      <td>1</td>\n",
       "      <td>30.27259</td>\n",
       "      <td>1</td>\n",
       "      <td>0</td>\n",
       "      <td>0</td>\n",
       "    </tr>\n",
       "    <tr>\n",
       "      <th>414</th>\n",
       "      <td>1</td>\n",
       "      <td>0</td>\n",
       "      <td>39.00000</td>\n",
       "      <td>0</td>\n",
       "      <td>1</td>\n",
       "      <td>0</td>\n",
       "    </tr>\n",
       "    <tr>\n",
       "      <th>415</th>\n",
       "      <td>3</td>\n",
       "      <td>1</td>\n",
       "      <td>38.00000</td>\n",
       "      <td>1</td>\n",
       "      <td>0</td>\n",
       "      <td>0</td>\n",
       "    </tr>\n",
       "    <tr>\n",
       "      <th>416</th>\n",
       "      <td>3</td>\n",
       "      <td>1</td>\n",
       "      <td>30.27259</td>\n",
       "      <td>1</td>\n",
       "      <td>0</td>\n",
       "      <td>0</td>\n",
       "    </tr>\n",
       "    <tr>\n",
       "      <th>417</th>\n",
       "      <td>3</td>\n",
       "      <td>1</td>\n",
       "      <td>30.27259</td>\n",
       "      <td>0</td>\n",
       "      <td>1</td>\n",
       "      <td>0</td>\n",
       "    </tr>\n",
       "  </tbody>\n",
       "</table>\n",
       "<p>418 rows × 6 columns</p>\n",
       "</div>"
      ],
      "text/plain": [
       "     Pclass  Sex       Age  S  C  Q\n",
       "0         3    1  34.00000  0  0  1\n",
       "1         3    0  47.00000  1  0  0\n",
       "2         2    1  62.00000  0  0  1\n",
       "3         3    1  27.00000  1  0  0\n",
       "4         3    0  22.00000  1  0  0\n",
       "..      ...  ...       ... .. .. ..\n",
       "413       3    1  30.27259  1  0  0\n",
       "414       1    0  39.00000  0  1  0\n",
       "415       3    1  38.00000  1  0  0\n",
       "416       3    1  30.27259  1  0  0\n",
       "417       3    1  30.27259  0  1  0\n",
       "\n",
       "[418 rows x 6 columns]"
      ]
     },
     "execution_count": 289,
     "metadata": {},
     "output_type": "execute_result"
    }
   ],
   "source": [
    "train_copy"
   ]
  },
  {
   "cell_type": "code",
   "execution_count": 17,
   "id": "272d8c08-4f0d-4684-b52c-8d0f78e4889e",
   "metadata": {},
   "outputs": [
    {
     "data": {
      "text/plain": [
       "array([0], dtype=int64)"
      ]
     },
     "execution_count": 17,
     "metadata": {},
     "output_type": "execute_result"
    }
   ],
   "source": [
    "new_data = pd.DataFrame({'Pclass': [3], 'Sex': [1], 'Age': [32], 'S':1, 'C':0, 'Q':0})\n",
    "predicted_survival = model.predict(new_data)\n",
    "predicted_survival"
   ]
  },
  {
   "cell_type": "code",
   "execution_count": null,
   "id": "f0a19ea0-d4c9-444d-a9f9-f2c5ca274c17",
   "metadata": {},
   "outputs": [],
   "source": []
  },
  {
   "cell_type": "code",
   "execution_count": null,
   "id": "b1ab262c-0d52-4214-8fae-788b52264cbb",
   "metadata": {},
   "outputs": [],
   "source": []
  },
  {
   "cell_type": "code",
   "execution_count": null,
   "id": "779e9240-2c75-4c99-a36e-87083c9202d3",
   "metadata": {},
   "outputs": [],
   "source": []
  }
 ],
 "metadata": {
  "kernelspec": {
   "display_name": "Python 3 (ipykernel)",
   "language": "python",
   "name": "python3"
  },
  "language_info": {
   "codemirror_mode": {
    "name": "ipython",
    "version": 3
   },
   "file_extension": ".py",
   "mimetype": "text/x-python",
   "name": "python",
   "nbconvert_exporter": "python",
   "pygments_lexer": "ipython3",
   "version": "3.10.5"
  }
 },
 "nbformat": 4,
 "nbformat_minor": 5
}
